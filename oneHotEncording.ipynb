{
 "cells": [
  {
   "cell_type": "code",
   "execution_count": 4,
   "metadata": {},
   "outputs": [],
   "source": [
    "import tensorflow.compat.v1 as tf\n",
    "import numpy as np"
   ]
  },
  {
   "cell_type": "code",
   "execution_count": 5,
   "metadata": {},
   "outputs": [],
   "source": [
    "# 원-핫 인코딩(one-hot encoding) : 0,1로 데이터를 표기 / 골빈해커의 3분 딥러닝 텐서플로맛 4장\n",
    "# [털,날개]\n",
    "x_data = np.array([[0,0],[1,0],[1,1]])\n",
    "# [기타,포유류,조류]\n",
    "y_data = np.array([[1,0,0],[0,1,0],[0,0,1]])"
   ]
  },
  {
   "cell_type": "code",
   "execution_count": 6,
   "metadata": {},
   "outputs": [],
   "source": [
    "X = tf.placeholder(tf.float32)\n",
    "Y = tf.placeholder(tf.float32)\n"
   ]
  },
  {
   "cell_type": "code",
   "execution_count": 7,
   "metadata": {},
   "outputs": [],
   "source": [
    "W = tf.Variable(tf.random.uniform([2,3], -1.0, 1.0))\n",
    "b = tf.Variable(tf.zeros(shape=(3)))"
   ]
  },
  {
   "cell_type": "code",
   "execution_count": 8,
   "metadata": {},
   "outputs": [],
   "source": [
    "L = tf.add(tf.matmul(X,W),b) # matmul : 행렬곱\n",
    "L = tf.nn.relu(L) # relu : 정류된 선형 함수 , x<0 일때 y=0"
   ]
  },
  {
   "cell_type": "code",
   "execution_count": 9,
   "metadata": {},
   "outputs": [],
   "source": [
    "model = tf.nn.softmax(L) # softmax = 결과값들의 합이 1이됨"
   ]
  },
  {
   "cell_type": "code",
   "execution_count": 10,
   "metadata": {},
   "outputs": [],
   "source": [
    "'''\n",
    "교차 엔트로피 (CEE, Cross Entropy Error) : 서로 다른 엔트로피를 교차하여 오차를 측정\n",
    "엔트로피 : 정보의 양 , 머신러닝의 예측값(틀린 값)\n",
    "log 쓰는 이유 : 정규성을 높이고 정확한 값을 얻기 위함, log를 사용하면 큰 수를 같은 비율의 작은수로 바꿔 줄 수있다.\n",
    "'''\n",
    "cost = tf.reduce_mean(-tf.reduce_sum(Y*tf.math.log(model),axis=1))"
   ]
  },
  {
   "cell_type": "code",
   "execution_count": 11,
   "metadata": {},
   "outputs": [
    {
     "name": "stdout",
     "output_type": "stream",
     "text": [
      "10 0.95694715\n",
      "20 0.94510037\n",
      "30 0.93368053\n",
      "40 0.9226702\n",
      "50 0.91205233\n",
      "60 0.90181065\n",
      "70 0.89192885\n",
      "80 0.88239187\n",
      "90 0.8731846\n",
      "100 0.8642928\n",
      "예측값:  [1 1 2]\n",
      "실제값:  [0 1 2]\n",
      "정확도: 66.67\n"
     ]
    }
   ],
   "source": [
    "optimizer = tf.train.GradientDescentOptimizer(learning_rate=0.01)\n",
    "train_op = optimizer.minimize(cost)\n",
    "\n",
    "sess = tf.Session()\n",
    "sess.run(tf.global_variables_initializer())\n",
    "\n",
    "for step in range(100):\n",
    "    sess.run(train_op, feed_dict={X: x_data, Y: y_data})\n",
    "\n",
    "    if (step + 1) % 10 == 0:\n",
    "        print(step + 1, sess.run(cost, feed_dict={X: x_data, Y: y_data}))\n",
    "\n",
    "prediction = tf.argmax(model, axis=1) # argmax : 가장 큰 값을 가진 인덱스 반환\n",
    "target = tf.argmax(Y, axis=1)\n",
    "print('예측값: ', sess.run(prediction, feed_dict={X: x_data}))\n",
    "print('실제값: ', sess.run(target, feed_dict={Y: y_data}))\n",
    "\n",
    "is_correct = tf.equal(prediction, target) # equal = 같으면 true, 다르면 false\n",
    "accuracy = tf.reduce_mean(tf.cast(is_correct, tf.float32)) # cast = true =>1 , false =>0 로 반환\n",
    "print('정확도: %.2f' % sess.run(accuracy * 100, feed_dict={X: x_data, Y: y_data}))\n"
   ]
  },
  {
   "cell_type": "code",
   "execution_count": null,
   "metadata": {},
   "outputs": [],
   "source": []
  }
 ],
 "metadata": {
  "kernelspec": {
   "display_name": "Python 3",
   "language": "python",
   "name": "python3"
  },
  "language_info": {
   "codemirror_mode": {
    "name": "ipython",
    "version": 3
   },
   "file_extension": ".py",
   "mimetype": "text/x-python",
   "name": "python",
   "nbconvert_exporter": "python",
   "pygments_lexer": "ipython3",
   "version": "3.6.8"
  }
 },
 "nbformat": 4,
 "nbformat_minor": 4
}
