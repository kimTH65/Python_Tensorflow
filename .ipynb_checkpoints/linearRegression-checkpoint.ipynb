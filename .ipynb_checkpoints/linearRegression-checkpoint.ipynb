{
 "cells": [
  {
   "cell_type": "code",
   "execution_count": 1,
   "metadata": {},
   "outputs": [],
   "source": [
    "import tensorflow as tf # 구글사, 딥러닝 라이브러리\n",
    "import numpy as np # 다차원 배열, 수치해석, 계산용 Python 패키지"
   ]
  },
  {
   "cell_type": "code",
   "execution_count": 2,
   "metadata": {},
   "outputs": [],
   "source": [
    "# x_data 와 y_data의 상관관계를 알아보는 알고리즘(선형회귀)\n",
    "x_data = [1,2,3]\n",
    "y_data = [1,2,3]"
   ]
  },
  {
   "cell_type": "code",
   "execution_count": 3,
   "metadata": {},
   "outputs": [],
   "source": [
    "'''\n",
    "tensorFlow V1.0\n",
    "W = tf.Variable(tf.random_uniform([1], -1.0, 1.0))\n",
    "b = tf.Variable(tf.random_uniform([1], -1.0, 1.0))\n",
    "'''\n",
    "\n",
    "#tensorFlow V2.0  / -1.0부터1.0 사이 균등분포(uniform distribution)를 가진 무작위 값으로 초기화\n",
    "W = tf.Variable(tf.random.uniform([1], -1.0, 1.0))\n",
    "b = tf.Variable(tf.random.uniform([1], -1.0, 1.0))"
   ]
  },
  {
   "cell_type": "code",
   "execution_count": 4,
   "metadata": {},
   "outputs": [],
   "source": [
    "'''\n",
    "tensorFlow V1.0\n",
    "X = tf.placeholder(tf.float32, name=\"X\")\n",
    "Y = tf.placeholder(tf.float32, name=\"Y\")\n",
    "'''\n",
    "\n",
    "#tensorFlow V2.0 / don't use session,placeholder\n",
    "X = tf.Variable(tf.zeros(shape=(1)), name=\"X\") # tf.zeros : 모든 원소 0로 설정\n",
    "Y = tf.Variable(tf.ones(shape=(1)), name=\"Y\") # tf.zeros : 모든 원소 1로 설정"
   ]
  },
  {
   "cell_type": "code",
   "execution_count": 5,
   "metadata": {},
   "outputs": [],
   "source": [
    "hypothesis = W * X + b #  X,Y의 상관관계를 분석하기 위한 수식 / W 가중치 , b 편향값 / Y = WX +b"
   ]
  },
  {
   "cell_type": "code",
   "execution_count": 6,
   "metadata": {},
   "outputs": [
    {
     "name": "stdout",
     "output_type": "stream",
     "text": [
      "Epoch 1/10\n",
      "1/1 [==============================] - 0s 327ms/step - loss: 11.2482\n",
      "Epoch 2/10\n",
      "1/1 [==============================] - 0s 5ms/step - loss: 0.1785\n",
      "Epoch 3/10\n",
      "1/1 [==============================] - 0s 4ms/step - loss: 0.0442\n",
      "Epoch 4/10\n",
      "1/1 [==============================] - 0s 5ms/step - loss: 0.0406\n",
      "Epoch 5/10\n",
      "1/1 [==============================] - 0s 4ms/step - loss: 0.0387\n",
      "Epoch 6/10\n",
      "1/1 [==============================] - 0s 5ms/step - loss: 0.0368\n",
      "Epoch 7/10\n",
      "1/1 [==============================] - 0s 5ms/step - loss: 0.0351\n",
      "Epoch 8/10\n",
      "1/1 [==============================] - 0s 6ms/step - loss: 0.0334\n",
      "Epoch 9/10\n",
      "1/1 [==============================] - 0s 4ms/step - loss: 0.0318\n",
      "Epoch 10/10\n",
      "1/1 [==============================] - 0s 5ms/step - loss: 0.0303\n"
     ]
    },
    {
     "data": {
      "text/plain": [
       "<keras.callbacks.History at 0x169917fdac8>"
      ]
     },
     "execution_count": 6,
     "metadata": {},
     "output_type": "execute_result"
    }
   ],
   "source": [
    "cost = tf.reduce_mean(tf.square(hypothesis - Y))  '''\n",
    "                                                  손실함수 / 예측값(hypothesis) - 실제값(Y) 을 제곱(square) 하여 \n",
    "                                                  평균(reduce_mean)을 구한다 \n",
    "                                                  '''\n",
    "\n",
    "\n",
    "#tensorFlow V1.0 - optimizer = tf.train.GradientDescentOptimizer(learning_rate=0.1)\n",
    "sgd = tf.keras.optimizers.SGD (learning_rate=0.1)  '''\n",
    "                                                   keras : 딥러닝 API \n",
    "                                                   optimizers : 손실 함수를 통해 얻은 손실값으로부터 모델을 업데이트 하는 방식\n",
    "                                                   SGD : 경사하강법(운동량 포함) 최적화 프로그램\n",
    "                                                   learning_rate : 학습률 \n",
    "                                                   '''\n",
    "            \n",
    "model = tf.keras.models.Sequential() # Sequential model :  정확히 하나의 입력 텐서와 하나의 출력 텐서가 있는 레이어에 적합\n",
    "\n",
    "model.add(tf.keras.layers.Dense(1, input_dim=1))  '''\n",
    "                                                  조밀하게(dense)연결된 일반 뉴런 네트워크(NN) 레이어 \n",
    "                                                  (출력 뉴런수, 입력 뉴런수(input_dim))\n",
    "                                                  '''\n",
    "    \n",
    "model.compile(loss = 'mean_squared_error', optimizer=sgd) # loss : 손실함수 / mean_squared_error : 평균 제곱 오차\n",
    "model.fit(x_data, y_data, epochs=10) # epochs 데이터를 얼마나 반복할 것인가\n"
   ]
  },
  {
   "cell_type": "code",
   "execution_count": 7,
   "metadata": {},
   "outputs": [
    {
     "name": "stdout",
     "output_type": "stream",
     "text": [
      "[[1.2512773]]\n"
     ]
    }
   ],
   "source": [
    "print(model.predict(np.array([1]))) # 예측하기"
   ]
  },
  {
   "cell_type": "code",
   "execution_count": null,
   "metadata": {},
   "outputs": [],
   "source": []
  }
 ],
 "metadata": {
  "kernelspec": {
   "display_name": "Python 3",
   "language": "python",
   "name": "python3"
  },
  "language_info": {
   "codemirror_mode": {
    "name": "ipython",
    "version": 3
   },
   "file_extension": ".py",
   "mimetype": "text/x-python",
   "name": "python",
   "nbconvert_exporter": "python",
   "pygments_lexer": "ipython3",
   "version": "3.6.8"
  }
 },
 "nbformat": 4,
 "nbformat_minor": 4
}
