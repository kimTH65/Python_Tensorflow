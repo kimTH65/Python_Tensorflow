{
 "cells": [
  {
   "cell_type": "code",
   "execution_count": 13,
   "metadata": {},
   "outputs": [],
   "source": [
    "import tensorflow as tf"
   ]
  },
  {
   "cell_type": "code",
   "execution_count": 14,
   "metadata": {},
   "outputs": [],
   "source": [
    "mnist = tf.keras.datasets.mnist # mnist : 손으로 쓴 숫자들의 이미지 데이터셋\n",
    "(x_train, y_train), (x_test, y_test) = mnist.load_data()\n",
    "x_train = x_train.reshape((len(x_train), 28, 28, 1)) # 데이터양 , 28*28픽셀 , 1 = > 컬러채널\n",
    "x_test = x_test.reshape((len(x_test), 28, 28, 1))\n",
    "x_train, x_test = x_train / 255.0, x_test / 255.0 # 이미지 픽셀 값의 범위가 255, 255 나누어 값의 범위를 0~1로 조정"
   ]
  },
  {
   "cell_type": "code",
   "execution_count": 15,
   "metadata": {
    "scrolled": true
   },
   "outputs": [],
   "source": [
    "model = tf.keras.models.Sequential([\n",
    "    tf.keras.layers.Conv2D(32, (3,3), activation='relu', padding=\"same\", input_shape=(28, 28 ,1)), # convolution\n",
    "    tf.keras.layers.MaxPooling2D((2,2)), # pooling\n",
    "    tf.keras.layers.Conv2D(64, (3,3),padding=\"same\", activation='relu'),\n",
    "    tf.keras.layers.MaxPooling2D((2, 2)),\n",
    "    tf.keras.layers.Conv2D(254, (3,3),padding=\"same\", activation='relu'),\n",
    "    tf.keras.layers.Flatten(), # 하나의 행렬로 바꿈\n",
    "    tf.keras.layers.Dense(254, activation='relu'),\n",
    "    tf.keras.layers.Dense(10, activation='softmax'),\n",
    "    \n",
    "])"
   ]
  },
  {
   "cell_type": "code",
   "execution_count": 16,
   "metadata": {},
   "outputs": [],
   "source": [
    "model.compile(optimizer='adam', # 경사 하강법 Adam : RMSProp + Momentum\n",
    "              loss=tf.keras.losses.SparseCategoricalCrossentropy(from_logits=True), # losses.SparseCategoricalCrossentropy :\n",
    "                                                                                     #      레이블과 예측간의 교차 엔트로피 손실 계산\n",
    "              metrics=['accuracy']) # 측정항목 = [정확성]"
   ]
  },
  {
   "cell_type": "code",
   "execution_count": 17,
   "metadata": {},
   "outputs": [
    {
     "name": "stdout",
     "output_type": "stream",
     "text": [
      "Epoch 1/5\n"
     ]
    },
    {
     "name": "stderr",
     "output_type": "stream",
     "text": [
      "c:\\users\\rlaxo\\appdata\\local\\programs\\python\\python36\\lib\\site-packages\\keras\\backend.py:4907: UserWarning: \"`sparse_categorical_crossentropy` received `from_logits=True`, but the `output` argument was produced by a sigmoid or softmax activation and thus does not represent logits. Was this intended?\"\n",
      "  '\"`sparse_categorical_crossentropy` received `from_logits=True`, but '\n"
     ]
    },
    {
     "name": "stdout",
     "output_type": "stream",
     "text": [
      "1875/1875 [==============================] - 79s 42ms/step - loss: 0.0977 - accuracy: 0.9686\n",
      "Epoch 2/5\n",
      "1875/1875 [==============================] - 77s 41ms/step - loss: 0.0377 - accuracy: 0.9887\n",
      "Epoch 3/5\n",
      "1875/1875 [==============================] - 78s 42ms/step - loss: 0.0271 - accuracy: 0.9916\n",
      "Epoch 4/5\n",
      "1875/1875 [==============================] - 76s 41ms/step - loss: 0.0188 - accuracy: 0.99390s - loss: 0.0188 - accuracy: \n",
      "Epoch 5/5\n",
      "1875/1875 [==============================] - 77s 41ms/step - loss: 0.0149 - accuracy: 0.9952\n"
     ]
    },
    {
     "data": {
      "text/plain": [
       "<keras.callbacks.History at 0x21551b8a898>"
      ]
     },
     "execution_count": 17,
     "metadata": {},
     "output_type": "execute_result"
    }
   ],
   "source": [
    "model.fit(x_train, y_train, epochs=5)# 훈련"
   ]
  },
  {
   "cell_type": "code",
   "execution_count": 6,
   "metadata": {},
   "outputs": [
    {
     "name": "stdout",
     "output_type": "stream",
     "text": [
      "313/313 - 4s - loss: 0.0326 - accuracy: 0.9910\n"
     ]
    },
    {
     "data": {
      "text/plain": [
       "[0.03262466937303543, 0.9909999966621399]"
      ]
     },
     "execution_count": 6,
     "metadata": {},
     "output_type": "execute_result"
    }
   ],
   "source": [
    "model.evaluate(x_test,  y_test, verbose=2) # 검증"
   ]
  }
 ],
 "metadata": {
  "kernelspec": {
   "display_name": "Python 3",
   "language": "python",
   "name": "python3"
  },
  "language_info": {
   "codemirror_mode": {
    "name": "ipython",
    "version": 3
   },
   "file_extension": ".py",
   "mimetype": "text/x-python",
   "name": "python",
   "nbconvert_exporter": "python",
   "pygments_lexer": "ipython3",
   "version": "3.6.8"
  }
 },
 "nbformat": 4,
 "nbformat_minor": 4
}
