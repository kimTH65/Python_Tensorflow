{
 "cells": [
  {
   "cell_type": "code",
   "execution_count": 5,
   "metadata": {},
   "outputs": [],
   "source": [
    "import tensorflow as tf\n",
    "import numpy as np"
   ]
  },
  {
   "cell_type": "code",
   "execution_count": 6,
   "metadata": {},
   "outputs": [],
   "source": [
    "# mnist 기초 / tensorFlow tutorial\n",
    "mnist = tf.keras.datasets.mnist # mnist : 손으로 쓴 숫자들의 이미지 데이터셋\n",
    "(x_train, y_train), (x_test, y_test) = mnist.load_data() \n",
    "x_train, x_test = x_train / 255.0, x_test / 255.0 # 이미지 픽셀 값의 범위가 255, 255 나누어 값의 범위를 0~1로 조정"
   ]
  },
  {
   "cell_type": "code",
   "execution_count": 7,
   "metadata": {},
   "outputs": [],
   "source": [
    "model = tf.keras.models.Sequential([\n",
    "  tf.keras.layers.Flatten(input_shape=(28, 28)), # 2차원 배열(28*28)의 이미지 포맷을 784의 1차원 배열로 변환\n",
    "  tf.keras.layers.Dense(1400, activation='relu'), # 256개의 노드(뉴런), relu 함수로 학습\n",
    "  tf.keras.layers.Dropout(0.8), # 데이터를 80프로만 사용 => Drop out : 과적합을 방지하기 위하여 학습 단계마다 일부 뉴런을 제거\n",
    "  tf.keras.layers.Dense(10, activation='softmax') # 10개의 확률 반환, 반환된 확률의 합이 1 \n",
    "])"
   ]
  },
  {
   "cell_type": "code",
   "execution_count": 8,
   "metadata": {
    "scrolled": true
   },
   "outputs": [],
   "source": [
    "model.compile(optimizer='adam', # 경사 하강법 Adam : RMSProp + Momentum\n",
    "              loss=tf.keras.losses.SparseCategoricalCrossentropy(from_logits=True), # losses.SparseCategoricalCrossentropy :\n",
    "                                                                                     #      레이블과 예측간의 교차 엔트로피 손실 계산\n",
    "              metrics=['accuracy']) # 측정항목 = [정확성]"
   ]
  },
  {
   "cell_type": "code",
   "execution_count": 9,
   "metadata": {},
   "outputs": [
    {
     "name": "stdout",
     "output_type": "stream",
     "text": [
      "Epoch 1/5\n"
     ]
    },
    {
     "name": "stderr",
     "output_type": "stream",
     "text": [
      "c:\\users\\rlaxo\\appdata\\local\\programs\\python\\python36\\lib\\site-packages\\keras\\backend.py:4907: UserWarning: \"`sparse_categorical_crossentropy` received `from_logits=True`, but the `output` argument was produced by a sigmoid or softmax activation and thus does not represent logits. Was this intended?\"\n",
      "  '\"`sparse_categorical_crossentropy` received `from_logits=True`, but '\n"
     ]
    },
    {
     "name": "stdout",
     "output_type": "stream",
     "text": [
      "1875/1875 [==============================] - 15s 7ms/step - loss: 0.3582 - accuracy: 0.8885\n",
      "Epoch 2/5\n",
      "1875/1875 [==============================] - 14s 7ms/step - loss: 0.2270 - accuracy: 0.9311\n",
      "Epoch 3/5\n",
      "1875/1875 [==============================] - 14s 7ms/step - loss: 0.2017 - accuracy: 0.9398\n",
      "Epoch 4/5\n",
      "1875/1875 [==============================] - 14s 7ms/step - loss: 0.1877 - accuracy: 0.9441\n",
      "Epoch 5/5\n",
      "1875/1875 [==============================] - 14s 7ms/step - loss: 0.1752 - accuracy: 0.9497\n"
     ]
    },
    {
     "data": {
      "text/plain": [
       "<keras.callbacks.History at 0x1ea1c40cbe0>"
      ]
     },
     "execution_count": 9,
     "metadata": {},
     "output_type": "execute_result"
    }
   ],
   "source": [
    "model.fit(x_train, y_train, epochs=5)# 훈련"
   ]
  },
  {
   "cell_type": "code",
   "execution_count": 10,
   "metadata": {},
   "outputs": [
    {
     "name": "stdout",
     "output_type": "stream",
     "text": [
      "313/313 - 1s - loss: 0.0844 - accuracy: 0.9755\n"
     ]
    },
    {
     "data": {
      "text/plain": [
       "[0.08438517898321152, 0.9754999876022339]"
      ]
     },
     "execution_count": 10,
     "metadata": {},
     "output_type": "execute_result"
    }
   ],
   "source": [
    "model.evaluate(x_test,  y_test, verbose=2) # 검증"
   ]
  },
  {
   "cell_type": "code",
   "execution_count": null,
   "metadata": {},
   "outputs": [],
   "source": []
  }
 ],
 "metadata": {
  "kernelspec": {
   "display_name": "Python 3",
   "language": "python",
   "name": "python3"
  },
  "language_info": {
   "codemirror_mode": {
    "name": "ipython",
    "version": 3
   },
   "file_extension": ".py",
   "mimetype": "text/x-python",
   "name": "python",
   "nbconvert_exporter": "python",
   "pygments_lexer": "ipython3",
   "version": "3.6.8"
  }
 },
 "nbformat": 4,
 "nbformat_minor": 4
}
